{
 "cells": [
  {
   "cell_type": "code",
   "execution_count": 39,
   "metadata": {},
   "outputs": [],
   "source": [
    "import requests\n",
    "from bs4 import BeautifulSoup\n",
    "#Creating Header\n",
    "\n",
    "headers = {\n",
    "    \"User-Agent\" : \"Mozilla/5.0 (Windows NT 10.0; Win64; x64) AppleWebKit/537.36\\\", \\\"(KHTML, like Gecko) Chrome/80.0.3987.149 Safari/537.36\",\n",
    "    \"Referer\": \"https://www.google.com/search?q=brazil+journal&oq=Brazil+journal&aqs=chrome.0.0i512l10.656j0j1&sourceid=chrome&ie=UTF-8\",\n",
    "    \"Accept-Language\": \"pt-BR,pt;q=0.9,en-US;q=0.8,en;q=0.7\"\n",
    "}\n"
   ]
  },
  {
   "cell_type": "code",
   "execution_count": 40,
   "metadata": {},
   "outputs": [],
   "source": [
    "#URL, Request and bs4 parser\n",
    "\n",
    "URL = \"https://valor.globo.com/politica/noticia/2023/06/21/curriculo-lula-e-salario-no-stf-8-perguntas-e-respostas-sobre-cristiano-zanin.ghtml\"\n",
    "\n",
    "r = requests.get(URL, headers=headers)\n",
    "\n",
    "soup = BeautifulSoup(r.content, \"html.parser\")\n"
   ]
  },
  {
   "cell_type": "code",
   "execution_count": 48,
   "metadata": {},
   "outputs": [
    {
     "data": {
      "text/plain": [
       "'  21/06/2023 06h00    Atualizado  21/06/2023    '"
      ]
     },
     "execution_count": 48,
     "metadata": {},
     "output_type": "execute_result"
    }
   ],
   "source": [
    "#Get the title\n",
    "\n",
    "newsTitle = soup.find(\"h1\", class_=\"content-head__title\").get_text()\n",
    "newsSubTitle = soup.find(\"h2\", class_=\"content-head__subtitle\").get_text()\n",
    "newsAuthor = soup.find(\"p\", class_=\"content-publication-data__from\").get_text()\n",
    "newsDate = soup.find(\"p\", class_= \"content-publication-data__updated\").get_text()\n",
    "\n"
   ]
  }
 ],
 "metadata": {
  "kernelspec": {
   "display_name": "Python 3",
   "language": "python",
   "name": "python3"
  },
  "language_info": {
   "codemirror_mode": {
    "name": "ipython",
    "version": 3
   },
   "file_extension": ".py",
   "mimetype": "text/x-python",
   "name": "python",
   "nbconvert_exporter": "python",
   "pygments_lexer": "ipython3",
   "version": "3.9.13"
  },
  "orig_nbformat": 4
 },
 "nbformat": 4,
 "nbformat_minor": 2
}
