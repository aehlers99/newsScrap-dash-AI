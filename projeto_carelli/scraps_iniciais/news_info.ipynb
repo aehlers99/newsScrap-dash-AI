{
 "cells": [
  {
   "cell_type": "code",
   "execution_count": 4,
   "metadata": {},
   "outputs": [],
   "source": [
    "import requests\n",
    "from bs4 import BeautifulSoup"
   ]
  },
  {
   "cell_type": "code",
   "execution_count": 24,
   "metadata": {},
   "outputs": [
    {
     "name": "stdout",
     "output_type": "stream",
     "text": [
      "Não foi possível encontrar a manchete\n",
      "Não foi possível encontrar a data e hora\n",
      "Não foi possível encontrar o autor\n",
      "Não foi possível encontrar o artigo\n"
     ]
    }
   ],
   "source": [
    "#URL\n",
    "\n",
    "URL = \"https://braziljournal.com/investment-grade-depende-de-mais-crescimento-diz-sp/\"\n",
    "\n",
    "#Request\n",
    "\n",
    "page = requests.get(URL)\n",
    "\n",
    "#BeautifulSoup\n",
    "\n",
    "soup = BeautifulSoup(page.content, 'html.parser')\n",
    "\n",
    "#Headline\n",
    "\n",
    "try:\n",
    "    headline = soup.find('h1', class_='post-header-title').text\n",
    "    headline = headline.strip()\n",
    "except:\n",
    "    headline = 'Não foi possível encontrar a manchete'\n",
    "\n",
    "#Datetime\n",
    "\n",
    "try:\n",
    "    datetime = soup.find('time', class_='post-time').text\n",
    "    datetime = datetime.strip()\n",
    "except:\n",
    "    datetime = 'Não foi possível encontrar a data e hora'\n",
    "\n",
    "#Author\n",
    "\n",
    "try:\n",
    "    author = soup.find('span', class_='pp-author-boxes-name multiple-authors-name').text\n",
    "    author = author.strip()\n",
    "\n",
    "except:\n",
    "    author = 'Não foi possível encontrar o autor'\n",
    "\n",
    "#Article\n",
    "\n",
    "try:\n",
    "    article = soup.find('div', class_='post-content-text').text\n",
    "    article = article.strip()\n",
    "    #Removing blank spaces from article\n",
    "    article = article.replace('\\n', '')\n",
    "    article = article.replace('\\t', '')\n",
    "    article = article.replace('\\r', '')\n",
    "    article = article.replace('  ', '')\n",
    "\n",
    "except:\n",
    "    article = 'Não foi possível encontrar o artigo'\n",
    "\n",
    "print(headline)\n",
    "print(datetime)\n",
    "print(author)\n",
    "print(article)"
   ]
  },
  {
   "cell_type": "code",
   "execution_count": 29,
   "metadata": {},
   "outputs": [
    {
     "name": "stdout",
     "output_type": "stream",
     "text": [
      "Governo adotará meta contínua de inflação a partir de 2025, diz Haddad\n",
      "29/06/2023 17h15    Atualizado  29/06/2023\n",
      "Por Larissa Garcia, Guilherme Pimenta e Jéssica Sant'Ana, Valor — Brasília\n",
      "O Conselho Monetário Nacional (CMN) decidiu hoje implementar um horizonte mais flexível de cumprimento da meta de inflação, informou o ministro da Fazenda, Fernando Haddad. Haddad: Corte da Selic não é questão política, é de matemática bem simples O ministro comunicou que será abandonado o ano-calendário e passará a ser adotada a chamada meta contínua a partir de 2025. Para 2026, a meta de inflação foi definida em 3%, com intervalo de tolerância de 1,5 ponto percentual para cima ou para baixo.Também foram mantidas as metas de inflação de 2024 e 2025 em 3%, ambas com tolerância de 1,5 ponto percentual. \"Em relação à meta de inflação, anunciei ao CMN porque é prerrogativa do presidente uma mudança no regime em relação ao ano-calendário, de maneira que adotaremos agora a meta contínua a partir de 2025\", afirmou Haddad em coletiva de imprensa. Segundo o ministro, \"na prática você trabalha com [um horizonte de cumprimento de] 24 meses\" com a adoção da meta contínua no lugar do ano fechado. \"Você dá um horizonte de longo prazo para a autoridade monetária, independentemente das condições políticas.\" Em seguida, contudo, o ministro reviu a afirmação e disse que caberá ao Banco Central definir esse prazo. \"O Banco Central que define o horizonte\", comentou. De acordo com Haddad, não haverá mais o compromisso de ficar discutindo a meta todo ano, como acontece atualmente. \"É contínua\", explicou. \"Tira a pressão sobre a meta. Redefine a trajetória e mantém a meta\", completou. Além disso, continuou, trata-se de uma mudança metodológica que alinha o Brasil às melhores práticas. \"Na Europa e nos EUA, há inflação muito superior à do Brasil, e, no entanto, eles mantêm a meta. Alemanha, França e Inglaterra estão fazendo isso: não abre mão da meta, não trabalha com o ano calendário\", completou. Ele disse que o ano de 2025 foi escolhido porque começa o mandato de um novo presidente do Banco Central e reforçou que abandonar o ano-calendário torna a busca pelo cumprimento da meta de inflação \"mais factível\". A ministra do Planejamento e Orçamento, Simone Tebet, informou que, apesar de a decisão já ter sido tomada pelo CMN, um decreto presidencial ainda precisa oficializar essa mudança para o regime de meta contínua e esse decreto ainda tem \"que passar pelo jurídico dos ministérios\". Atualmente, a verificação do cumprimento da meta é feita por ano-calendário. Nas ocasiões em que a inflação fica fora do intervalo de tolerância, o presidente da autoridade monetária é obrigado a escrever uma carta ao ministro da Fazenda, detalhando as razões pelas quais houve a extrapolação. Com a mudança, o BC passará a perseguir o nível determinado para a inflação acumulada em 12 meses em um período mais flexível. Mesmo assim, frisou o ministro, em caso de descumprimento, permanece a obrigação de o presidente do Banco Central publicar uma carta pública se explicando. \"Carta a ser enviada pelo BC em caso de descumprimento terá periodicidade no mínimo anual\", informou Haddad. \"Tende a ser mais frequente do que atualmente. Vamos definir essa frequência com o Banco Central no decreto a ser assinado [pelo presidente Lula]\", completou. — Foto: Diogo Zacarias/Valor O maior jornal de economia com a maior marca de agro do paísConhecer\n"
     ]
    }
   ],
   "source": [
    "#URL\n",
    "\n",
    "URL = \"https://valor.globo.com/brasil/noticia/2023/06/29/governo-adotara-meta-continua-de-inflacao-a-partir-de-2025-diz-haddad.ghtml\"\n",
    "\n",
    "#Request\n",
    "\n",
    "page = requests.get(URL)\n",
    "\n",
    "#BeautifulSoup\n",
    "\n",
    "soup = BeautifulSoup(page.content, 'html.parser')\n",
    "\n",
    "#Headline\n",
    "\n",
    "try:\n",
    "    headline = soup.find('h1', class_='content-head__title').text\n",
    "    headline = headline.strip()\n",
    "except:\n",
    "    headline = 'Não foi possível encontrar a manchete'\n",
    "\n",
    "#Datetime\n",
    "\n",
    "try:\n",
    "    datetime = soup.find('p', class_=\"content-publication-data__updated\").text\n",
    "    datetime = datetime.strip()\n",
    "except:\n",
    "    datetime = 'Não foi possível encontrar a data e hora'\n",
    "\n",
    "#Author\n",
    "\n",
    "try:\n",
    "    author = soup.find('p', class_='content-publication-data__from').text\n",
    "    author = author.strip()\n",
    "\n",
    "except:\n",
    "    author = 'Não foi possível encontrar o autor'\n",
    "\n",
    "#Article\n",
    "try:\n",
    "    article_div = soup.find('div', class_='mc-article-body')\n",
    "    p_elements = article_div.find_all('p')\n",
    "    article = ' '.join([p.get_text(strip=True) for p in p_elements])\n",
    "except AttributeError:\n",
    "    article = None\n",
    "\n",
    "\n",
    "print(headline)\n",
    "print(datetime)\n",
    "print(author)\n",
    "print(article)\n"
   ]
  }
 ],
 "metadata": {
  "kernelspec": {
   "display_name": "Python 3",
   "language": "python",
   "name": "python3"
  },
  "language_info": {
   "codemirror_mode": {
    "name": "ipython",
    "version": 3
   },
   "file_extension": ".py",
   "mimetype": "text/x-python",
   "name": "python",
   "nbconvert_exporter": "python",
   "pygments_lexer": "ipython3",
   "version": "3.9.13"
  },
  "orig_nbformat": 4
 },
 "nbformat": 4,
 "nbformat_minor": 2
}
